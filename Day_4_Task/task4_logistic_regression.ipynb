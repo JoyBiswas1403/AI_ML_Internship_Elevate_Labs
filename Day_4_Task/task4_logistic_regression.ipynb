# Name: Joy Biswas
# Task 4: Classification with Logistic Regression (Breast Cancer Wisconsin Dataset)

import pandas as pd
import numpy as np
import matplotlib.pyplot as plt
import seaborn as sns
import os

from sklearn.datasets import load_breast_cancer
from sklearn.model_selection import train_test_split
from sklearn.preprocessing import StandardScaler
from sklearn.linear_model import LogisticRegression
from sklearn.metrics import confusion_matrix, precision_score, recall_score, roc_auc_score, roc_curve

# 1. Create screenshots folder if not exists
os.makedirs('screenshots', exist_ok=True)

# 2. Load dataset
data = load_breast_cancer(as_frame=True)
df = data.frame.copy()

# 3. Save cleaned dataset
df.to_csv('cleaned_breast_cancer.csv', index=False)

# 4. Feature matrix and target vector
X = df.drop('target', axis=1)
y = df['target']

# 5. Train-Test Split
X_train, X_test, y_train, y_test = train_test_split(X, y, test_size=0.2, random_state=42, stratify=y)

# 6. Feature Standardization
scaler = StandardScaler()
X_train_scaled = scaler.fit_transform(X_train)
X_test_scaled = scaler.transform(X_test)

# 7. Logistic Regression Model
model = LogisticRegression(max_iter=1000)
model.fit(X_train_scaled, y_train)

# 8. Predicted probabilities, class labels, and threshold tuning
y_prob = model.predict_proba(X_test_scaled)[:, 1]
y_pred = (y_prob >= 0.5).astype(int)

# 9. Evaluation
cm = confusion_matrix(y_test, y_pred)
precision = precision_score(y_test, y_pred)
recall = recall_score(y_test, y_pred)
roc_auc = roc_auc_score(y_test, y_prob)

print(f"Confusion Matrix:\n{cm}")
print(f"Precision: {precision:.2f}")
print(f"Recall: {recall:.2f}")
print(f"ROC-AUC: {roc_auc:.4f}")

# 10. Plot Confusion Matrix
plt.figure(figsize=(4,4))
sns.heatmap(cm, annot=True, fmt='d', cmap='Blues', cbar=False)
plt.xlabel('Predicted')
plt.ylabel('Actual')
plt.title('Confusion Matrix')
plt.tight_layout()
plt.savefig('screenshots/confusion_matrix.png')
plt.show()

# 11. Plot ROC Curve and Sigmoid Function
fpr, tpr, thresholds = roc_curve(y_test, y_prob)

plt.figure(figsize=(6,4))
plt.plot(fpr, tpr, label=f"ROC curve (AUC = {roc_auc:.2f})", color='navy')
plt.plot([0,1],[0,1], linestyle='--', color='grey')
plt.xlabel('False Positive Rate')
plt.ylabel('True Positive Rate')
plt.title('ROC Curve')
plt.legend()
plt.tight_layout()
plt.savefig('screenshots/roc_curve.png')
plt.show()

# Sigmoid function visualization
z = np.linspace(-10, 10, 200)
sigmoid = 1 / (1 + np.exp(-z))
plt.figure(figsize=(6,4))
plt.plot(z, sigmoid, color='darkgreen')
plt.title('Sigmoid Function')
plt.xlabel('z')
plt.ylabel('sigmoid(z)')
plt.grid(True)
plt.tight_layout()
plt.savefig('screenshots/sigmoid_curve.png')
plt.show()

# 12. Download option for Colab (uncomment these lines if running on Google Colab)
from google.colab import files
files.download('cleaned_breast_cancer.csv')
files.download('screenshots/confusion_matrix.png')
files.download('screenshots/roc_curve.png')
files.download('screenshots/sigmoid_curve.png')
