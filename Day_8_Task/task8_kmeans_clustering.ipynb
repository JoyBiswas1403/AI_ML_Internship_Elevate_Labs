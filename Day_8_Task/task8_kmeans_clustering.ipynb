# Task 8: Clustering with K-Means – Mall Customer Segmentation
# Author: Joy Biswas

import pandas as pd
import numpy as np
import matplotlib.pyplot as plt
import seaborn as sns
from sklearn.preprocessing import StandardScaler
from sklearn.decomposition import PCA
from sklearn.cluster import KMeans
from sklearn.metrics import silhouette_score
import os

# 1. Load the Mall Customer Segmentation dataset from a reliable source
url = "https://assets.datacamp.com/production/repositories/5838/datasets/083224d85bfe51f091d9641fbfc95e60ba95c0ba/Mall_Customers.csv"
df = pd.read_csv(url)

# 2. Drop any identifier column if present
if 'CustomerID' in df.columns:
    df = df.drop('CustomerID', axis=1)

# 3. Feature selection (you may choose to encode Gender if you want, but most clustering demos use only Age, Income, Score)
X = df[["Age", "Annual Income (k$)", "Spending Score (1-100)"]]

# 4. Feature scaling
scaler = StandardScaler()
X_scaled = scaler.fit_transform(X)
scaled_df = pd.DataFrame(X_scaled, columns=X.columns)
scaled_df.to_csv('cleaned_mall_customers_kmeans.csv', index=False)

# 5. Visualize raw (PCA-reduced) data (optional for 2D illustration)
pca = PCA(n_components=2, random_state=42)
X_pca = pca.fit_transform(X_scaled)
plt.figure(figsize=(6, 5))
plt.scatter(X_pca[:, 0], X_pca[:, 1], c='gray', alpha=0.5)
plt.title('Mall Customers (PCA-reduced)')
plt.xlabel('Principal Component 1')
plt.ylabel('Principal Component 2')
plt.tight_layout()
os.makedirs('screenshots', exist_ok=True)
plt.savefig('screenshots/raw_pca_scatter.png')
plt.close()

# 6. Elbow Method for optimal K
inertias = []
K_range = range(1, 11)
for k in K_range:
    kmeans = KMeans(n_clusters=k, random_state=42, n_init=10)
    kmeans.fit(X_scaled)
    inertias.append(kmeans.inertia_)

plt.figure(figsize=(8, 5))
plt.plot(K_range, inertias, marker='o')
plt.xlabel('Number of clusters (K)')
plt.ylabel('Inertia')
plt.title('Elbow Method For Optimal K')
plt.tight_layout()
plt.savefig('screenshots/kmeans_elbow.png')
plt.close()

# 7. Fit KMeans for the optimal K (Most demos use 5; adjust based on your elbow plot if needed)
optimal_k = 5
kmeans = KMeans(n_clusters=optimal_k, random_state=42, n_init=10)
labels = kmeans.fit_predict(X_scaled)

# 8. Silhouette score
score = silhouette_score(X_scaled, labels)
print(f"Silhouette Score for K={optimal_k}: {score:.3f}")

# 9. Visualize clusters in PCA space
plt.figure(figsize=(7, 5))
scatter = plt.scatter(X_pca[:, 0], X_pca[:, 1], c=labels, cmap='tab10', alpha=0.7)
plt.scatter(
    pca.transform(kmeans.cluster_centers_)[:, 0], 
    pca.transform(kmeans.cluster_centers_)[:, 1], 
    marker="*", color="red", s=200, label="Centroids"
)
plt.title(f'K-Means Clusters (K={optimal_k}, PCA space)')
plt.xlabel('Principal Component 1')
plt.ylabel('Principal Component 2')
plt.legend()
plt.tight_layout()
plt.savefig('screenshots/kmeans_clusters.png')
plt.close()

# 10. Save all labels and combine with original customer data
df_with_clusters = df.copy()
df_with_clusters['Cluster'] = labels
df_with_clusters.to_csv('mall_customers_with_clusters.csv', index=False)

# 11. Print summary
print("K-Means clustering completed.")
print(f"Optimal K: {optimal_k}  |  Silhouette Score: {score:.3f}")

#  Download outputs 
from google.colab import files
files.download('cleaned_mall_customers_kmeans.csv')
files.download('mall_customers_with_clusters.csv')
files.download('screenshots/raw_pca_scatter.png')
files.download('screenshots/kmeans_elbow.png')
files.download('screenshots/kmeans_clusters.png')
