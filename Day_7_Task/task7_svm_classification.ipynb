# Task 7: Support Vector Machines (SVM) – AI & ML Internship
# Author: Joy Biswas

import numpy as np
import pandas as pd
import matplotlib.pyplot as plt
import seaborn as sns
import os

from sklearn.datasets import load_breast_cancer
from sklearn.model_selection import train_test_split, GridSearchCV
from sklearn.preprocessing import StandardScaler
from sklearn.decomposition import PCA
from sklearn.svm import SVC
from sklearn.metrics import accuracy_score, confusion_matrix

# 1. Create screenshots folder
os.makedirs('screenshots', exist_ok=True)

# 2. Load and prepare dataset
data = load_breast_cancer(as_frame=True)
X = data.data
y = data.target

# 3. Standardize features
scaler = StandardScaler()
X_scaled = scaler.fit_transform(X)
pd.DataFrame(X_scaled, columns=X.columns).to_csv('cleaned_breast_cancer_svm.csv', index=False)

# 4. Reduce to 2D with PCA for visualization
pca = PCA(n_components=2, random_state=42)
X_pca = pca.fit_transform(X_scaled)
X_pca_df = pd.DataFrame(X_pca, columns=['PC1', 'PC2'])

# 5. Train-test split for scoring
X_train, X_test, y_train, y_test = train_test_split(X_pca, y, test_size=0.2, random_state=42, stratify=y)

# 6. Train SVM with linear kernel
svc_linear = SVC(kernel='linear', C=1.0, probability=True, random_state=42)
svc_linear.fit(X_train, y_train)
y_pred_linear = svc_linear.predict(X_test)
acc_linear = accuracy_score(y_test, y_pred_linear)

# 7. Train SVM with RBF kernel
svc_rbf = SVC(kernel='rbf', C=1.0, gamma='scale', probability=True, random_state=42)
svc_rbf.fit(X_train, y_train)
y_pred_rbf = svc_rbf.predict(X_test)
acc_rbf = accuracy_score(y_test, y_pred_rbf)

print(f"SVM Linear Kernel accuracy: {acc_linear:.3f}")
print(f"SVM RBF Kernel accuracy: {acc_rbf:.3f}")

# 8. Decision boundary plotting function
def plot_decision_boundary(model, X, y, title, filename):
    x_min, x_max = X[:,0].min()-1, X[:,0].max()+1
    y_min, y_max = X[:,1].min()-1, X[:,1].max()+1
    xx, yy = np.meshgrid(np.linspace(x_min, x_max, 500),
                         np.linspace(y_min, y_max, 500))
    Z = model.predict(np.c_[xx.ravel(), yy.ravel()]).reshape(xx.shape)
    plt.figure(figsize=(8,6))
    plt.contourf(xx, yy, Z, cmap=plt.cm.RdBu, alpha=0.4)
    scatter = plt.scatter(X[:,0], X[:,1], c=y, cmap=plt.cm.coolwarm, edgecolors='k')
    plt.xlabel('Principal Component 1')
    plt.ylabel('Principal Component 2')
    plt.title(title)
    plt.legend(*scatter.legend_elements(), title="Class")
    plt.tight_layout()
    plt.savefig(f'screenshots/{filename}')
    plt.show()

# 9. Plot decision boundaries (NOTE: Attachments already show results!)
plot_decision_boundary(svc_linear, X_test, y_test, 
                       'SVM Linear Decision Boundary (Test set, PCA)',
                       'svm_linear_decision_boundary.png')

plot_decision_boundary(svc_rbf, X_test, y_test, 
                       'SVM RBF Decision Boundary (Test set, PCA)',
                       'svm_rbf_decision_boundary.png')

# 10. Hyperparameter tuning (GridSearch) for RBF kernel
param_grid = {'C': [0.1, 1, 10, 50], 'gamma': ['scale', 0.01, 0.1, 1]}
grid = GridSearchCV(SVC(kernel='rbf'), param_grid, cv=5)
grid.fit(X_train, y_train)
print("Best params (RBF):", grid.best_params_)
print("Best CV score:", grid.best_score_)

# 11. Confusion Matrix (optional visualization)
cm = confusion_matrix(y_test, y_pred_rbf)
plt.figure(figsize=(4,3))
sns.heatmap(cm, annot=True, fmt='d', cmap='Blues', cbar=False)
plt.title('SVM RBF Confusion Matrix')
plt.xlabel('Predicted')
plt.ylabel('Actual')
plt.tight_layout()
plt.savefig('screenshots/svm_rbf_confusion_matrix.png')
plt.show()

# 12. Download in Colab 
from google.colab import files
files.download('cleaned_breast_cancer_svm.csv')
files.download('screenshots/svm_linear_decision_boundary.png')
files.download('screenshots/svm_rbf_decision_boundary.png')
files.download('screenshots/svm_rbf_confusion_matrix.png')
