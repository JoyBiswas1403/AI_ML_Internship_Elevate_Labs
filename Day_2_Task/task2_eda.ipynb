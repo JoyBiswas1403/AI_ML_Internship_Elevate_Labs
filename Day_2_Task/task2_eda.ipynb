# Name: Joy Biswas
# Task 2: Exploratory Data Analysis (EDA)

import pandas as pd
import numpy as np
import matplotlib.pyplot as plt
import seaborn as sns
import os

# 1. Create folder for screenshots
os.makedirs('screenshots', exist_ok=True)

# 2. Load the Iris dataset
df = sns.load_dataset('iris')

# 3. Summary statistics
summary_stats = df.describe(include='all')
display(summary_stats)                       # Show summary table in notebook
summary_stats.to_csv('summary_statistics.csv')

# 4. Histograms and boxplots for all numeric columns
numeric_cols = df.select_dtypes(include=np.number).columns.tolist()
for col in numeric_cols:
    plt.figure(figsize=(10,4))
    plt.subplot(1, 2, 1)
    sns.histplot(df[col], kde=True)
    plt.title(f'Histogram of {col}')
    plt.subplot(1, 2, 2)
    sns.boxplot(x=df[col])
    plt.title(f'Boxplot of {col}')
    plt.tight_layout()
    plt.savefig(f'screenshots/{col}_hist_box.png')
    plt.show()

# 5. Pairplot for relationships
g = sns.pairplot(df, hue='species')
g.savefig('screenshots/pairplot.png')
plt.show()

# 6. Correlation matrix heatmap
corr_matrix = df[numeric_cols].corr()
plt.figure(figsize=(8,6))
sns.heatmap(corr_matrix, annot=True, cmap='coolwarm')
plt.title('Correlation Matrix')
plt.savefig('screenshots/corr_matrix.png')
plt.show()

# 7. Save the cleaned (original) data
df.to_csv('cleaned_iris_dataset.csv', index=False)
print("EDA complete. All files are saved and shown above.")
