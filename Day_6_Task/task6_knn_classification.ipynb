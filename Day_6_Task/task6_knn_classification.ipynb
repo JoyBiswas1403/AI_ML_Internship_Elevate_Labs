# Name: Joy Biswas
# Task 6: K-Nearest Neighbors (KNN) Classification – AI & ML Internship

import pandas as pd
import numpy as np
import matplotlib.pyplot as plt
import seaborn as sns
import os

from sklearn.datasets import load_iris
from sklearn.model_selection import train_test_split
from sklearn.preprocessing import StandardScaler
from sklearn.neighbors import KNeighborsClassifier
from sklearn.metrics import accuracy_score, confusion_matrix

# 1. Create screenshots folder
os.makedirs('screenshots', exist_ok=True)

# 2. Load Iris dataset
iris = load_iris(as_frame=True)
df = iris.frame.copy()

# 3. Separate features and target
X = df.drop('target', axis=1)
y = df['target']

# 4. Train/Test split
X_train, X_test, y_train, y_test = train_test_split(X, y, test_size=0.2, stratify=y, random_state=42)

# 5. Normalize features
scaler = StandardScaler()
X_train_scaled = scaler.fit_transform(X_train)
X_test_scaled = scaler.transform(X_test)

# 6. Try different K values and store accuracies
k_range = range(1, 21)
train_accuracies = []
test_accuracies = []

for k in k_range:
    knn = KNeighborsClassifier(n_neighbors=k)
    knn.fit(X_train_scaled, y_train)
    train_accuracies.append(knn.score(X_train_scaled, y_train))
    test_accuracies.append(knn.score(X_test_scaled, y_test))

best_k = k_range[test_accuracies.index(max(test_accuracies))]
best_knn = KNeighborsClassifier(n_neighbors=best_k)
best_knn.fit(X_train_scaled, y_train)
y_pred = best_knn.predict(X_test_scaled)

# 7. Evaluation
accuracy = accuracy_score(y_test, y_pred)
cm = confusion_matrix(y_test, y_pred)

print(f"Best K: {best_k}")
print(f"Test Accuracy with Best K: {accuracy:.4f}")
print("Confusion Matrix:")
print(cm)

# 8. Plot K vs Accuracy
plt.figure(figsize=(10,5))
plt.plot(k_range, train_accuracies, marker='o', label='Train Accuracy', color='green')
plt.plot(k_range, test_accuracies, marker='o', label='Test Accuracy', color='blue')
plt.xlabel('K value')
plt.ylabel('Accuracy')
plt.title('KNN Accuracy vs K (Iris Dataset)')
plt.legend()
plt.grid(True)
plt.tight_layout()
plt.savefig('screenshots/knn_accuracy.png')
plt.show()

# 9. Plot Confusion Matrix
plt.figure(figsize=(6,5))
sns.heatmap(cm, annot=True, cmap='Blues', fmt='d', 
            xticklabels=iris.target_names, yticklabels=iris.target_names)
plt.xlabel('Predicted Label')
plt.ylabel('True Label')
plt.title(f'Confusion Matrix (K={best_k})')
plt.tight_layout()
plt.savefig('screenshots/knn_confusion_matrix.png')
plt.show()

# 10. Save cleaned (scaled) dataset
X_scaled_df = pd.DataFrame(np.vstack((X_train_scaled, X_test_scaled)), columns=X.columns)
y_combined = pd.Series(pd.concat([y_train, y_test]), name='target').reset_index(drop=True)
cleaned_df = pd.concat([X_scaled_df, y_combined], axis=1)
cleaned_df.to_csv('cleaned_iris_scaled.csv', index=False)

# 11. Download files in Colab (uncomment to use!)
from google.colab import files
files.download('cleaned_iris_scaled.csv')
files.download('screenshots/knn_accuracy.png')
files.download('screenshots/knn_confusion_matrix.png')
