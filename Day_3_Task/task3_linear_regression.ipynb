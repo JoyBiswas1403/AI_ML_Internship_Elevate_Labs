# Name: Joy Biswas
# Task 3: Linear Regression - Boston Housing Price Prediction

import pandas as pd
import numpy as np
import matplotlib.pyplot as plt
import seaborn as sns
import os

from sklearn.model_selection import train_test_split
from sklearn.linear_model import LinearRegression
from sklearn.metrics import mean_absolute_error, mean_squared_error, r2_score

# 1. Create screenshots folder if not exists
os.makedirs('screenshots', exist_ok=True)

# 2. Load dataset
url = 'https://raw.githubusercontent.com/selva86/datasets/master/BostonHousing.csv'
df = pd.read_csv(url)

# 3. No categorical columns to encode here - Boston Housing is numeric

# 4. Split data into features and target
X = df.drop('medv', axis=1)  # Features
y = df['medv']               # Target variable (Median value of owner-occupied homes)

# 5. Train-test split (80-20)
X_train, X_test, y_train, y_test = train_test_split(X, y, test_size=0.20, random_state=42)

# 6. Initialize and train Linear Regression model
lr = LinearRegression()
lr.fit(X_train, y_train)

# 7. Interpret coefficients
coeff_df = pd.DataFrame({'Feature': X.columns, 'Coefficient': lr.coef_})
print("Regression Coefficients:")
print(coeff_df)

# 8. Predict on test data
y_pred = lr.predict(X_test)

# 9. Evaluate the model
mae = mean_absolute_error(y_test, y_pred)
mse = mean_squared_error(y_test, y_pred)
r2 = r2_score(y_test, y_pred)

print(f"\nModel Performance:")
print(f"Mean Absolute Error (MAE): {mae:.2f}")
print(f"Mean Squared Error (MSE): {mse:.2f}")
print(f"R^2 Score: {r2:.4f}")

# 10. Plot actual vs predicted values
plt.figure(figsize=(8,6))
sns.scatterplot(x=y_test, y=y_pred)
plt.plot([y_test.min(), y_test.max()], [y_test.min(), y_test.max()], 'r--', lw=2, label='Ideal Prediction')
plt.xlabel('Actual Median Value')
plt.ylabel('Predicted Median Value')
plt.title('Actual vs Predicted Housing Prices')
plt.legend()
plt.tight_layout()
plt.savefig('screenshots/actual_vs_predicted.png')
plt.show()

# 11. Save the cleaned dataset (original as no extra cleaning done)
df.to_csv('cleaned_boston_housing.csv', index=False)

# 12. Download files in Google Colab (uncomment if using Colab)
# from google.colab import files
# files.download('cleaned_boston_housing.csv')
# files.download('screenshots/actual_vs_predicted.png')
