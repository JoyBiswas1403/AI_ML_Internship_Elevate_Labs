# Name: Joy Biswas
# Task 1: Data Cleaning & Preprocessing | Titanic Dataset

import pandas as pd
import numpy as np
import matplotlib.pyplot as plt
import seaborn as sns

# 1. Import Dataset
url = "https://web.stanford.edu/class/archive/cs/cs109/cs109.1166/stuff/titanic.csv"
df = pd.read_csv(url)

# 2. Explore Basic Info
print("\nData Types and Non-null Counts:\n", df.info())
print("\nNull Values in Each Column:\n", df.isnull().sum())

# 3. Handle Missing Values (impute Age with median)
df['Age'].fillna(df['Age'].median(), inplace=True)
if df['Fare'].isnull().sum() > 0:
    df['Fare'].fillna(df['Fare'].median(), inplace=True)
print("\nNull Values After Imputation:\n", df.isnull().sum())

# 4. Encode 'Sex'
df['Sex'] = df['Sex'].map({'male': 0, 'female': 1})

# 5. Standardize numerical features
df['Age_standardized'] = (df['Age'] - df['Age'].mean()) / df['Age'].std()
df['Fare_standardized'] = (df['Fare'] - df['Fare'].mean()) / df['Fare'].std()

# 6. Visualize Outliers
plt.figure(figsize=(12, 5))
plt.subplot(1, 2, 1)
sns.boxplot(x=df['Age'])
plt.title('Boxplot of Age')
plt.subplot(1, 2, 2)
sns.boxplot(x=df['Fare'])
plt.title('Boxplot of Fare')
plt.tight_layout()
plt.savefig('screenshots/boxplots.png')
plt.close()

# 7. Remove Outliers Using IQR
Q1_age, Q3_age = df['Age'].quantile([0.25, 0.75])
IQR_age = Q3_age - Q1_age
Q1_fare, Q3_fare = df['Fare'].quantile([0.25, 0.75])
IQR_fare = Q3_fare - Q1_fare

age_min, age_max = Q1_age - 1.5 * IQR_age, Q3_age + 1.5 * IQR_age
fare_min, fare_max = Q1_fare - 1.5 * IQR_fare, Q3_fare + 1.5 * IQR_fare

df_clean = df[(df['Age'] >= age_min) & (df['Age'] <= age_max) &
              (df['Fare'] >= fare_min) & (df['Fare'] <= fare_max)]

# Save cleaned data
df_clean.to_csv('cleaned_titanic.csv', index=False)
